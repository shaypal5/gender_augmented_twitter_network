{
 "cells": [
  {
   "cell_type": "code",
   "execution_count": 1,
   "metadata": {},
   "outputs": [],
   "source": [
    "import gzip"
   ]
  },
  {
   "cell_type": "code",
   "execution_count": 2,
   "metadata": {},
   "outputs": [],
   "source": [
    "# from twikwak17.shared import uname2id_fpath_by_dpath"
   ]
  },
  {
   "cell_type": "code",
   "execution_count": 3,
   "metadata": {},
   "outputs": [],
   "source": [
    "uname2id_fpath = '/home/shaypalachy/Dropbox/data/twikwak17/phase_2_output/kwak10_uname_to_id.txt.gz'"
   ]
  },
  {
   "cell_type": "code",
   "execution_count": 4,
   "metadata": {},
   "outputs": [],
   "source": [
    "UNAME_TO_ID_REGEX = '(\\s*\\S+) (\\S+)'"
   ]
  },
  {
   "cell_type": "code",
   "execution_count": 5,
   "metadata": {},
   "outputs": [],
   "source": [
    "uname2id_f = gzip.open(uname2id_fpath, 'rt')"
   ]
  },
  {
   "cell_type": "code",
   "execution_count": 6,
   "metadata": {},
   "outputs": [],
   "source": [
    "uname2id_map = {}"
   ]
  },
  {
   "cell_type": "code",
   "execution_count": 7,
   "metadata": {},
   "outputs": [],
   "source": [
    "import re"
   ]
  },
  {
   "cell_type": "code",
   "execution_count": 8,
   "metadata": {},
   "outputs": [
    {
     "name": "stdout",
     "output_type": "stream",
     "text": [
      "34,800,000 lines read; 34,800,000 lines matched.\r"
     ]
    }
   ],
   "source": [
    "lines_read = 0\n",
    "matching_lines = 0\n",
    "nonmatching_lines = 0\n",
    "for line in uname2id_f:\n",
    "    lines_read += 1\n",
    "    try:\n",
    "        uname, uid = re.findall(UNAME_TO_ID_REGEX, line)[0]\n",
    "        uname2id_map[uname] = uid\n",
    "        matching_lines += 1\n",
    "    except IndexError:\n",
    "        nonmatching_lines += 1\n",
    "    if lines_read % 100000 == 0:\n",
    "        print(f'{lines_read:,} lines read; {matching_lines:,} lines matched.', end='\\r')"
   ]
  },
  {
   "cell_type": "code",
   "execution_count": 9,
   "metadata": {},
   "outputs": [
    {
     "data": {
      "text/plain": [
       "34897934"
      ]
     },
     "execution_count": 9,
     "metadata": {},
     "output_type": "execute_result"
    }
   ],
   "source": [
    "len(uname2id_map)"
   ]
  },
  {
   "cell_type": "code",
   "execution_count": 10,
   "metadata": {},
   "outputs": [
    {
     "data": {
      "text/plain": [
       "('zzzzzzzzzzzzzzw', '27109664')"
      ]
     },
     "execution_count": 10,
     "metadata": {},
     "output_type": "execute_result"
    }
   ],
   "source": [
    "uname2id_map.popitem()"
   ]
  },
  {
   "cell_type": "code",
   "execution_count": 11,
   "metadata": {},
   "outputs": [
    {
     "data": {
      "text/plain": [
       "('zzzzzzzzzzzzzzu', '43322625')"
      ]
     },
     "execution_count": 11,
     "metadata": {},
     "output_type": "execute_result"
    }
   ],
   "source": [
    "uname2id_map.popitem()"
   ]
  },
  {
   "cell_type": "code",
   "execution_count": 12,
   "metadata": {},
   "outputs": [
    {
     "name": "stdout",
     "output_type": "stream",
     "text": [
      "('zzzzzzzzzzzzzzs', '16522885')\n",
      "('zzzzzzzzzzzzzok', '22618320')\n",
      "('zzzzzzzzzzzzz1', '23200811')\n",
      "('zzzzzzzzzzzzqqq', '20934704')\n",
      "('zzzzzzzzzzzz000', '38044341')\n",
      "('zzzzzzzzzzzx', '25800011')\n",
      "('zzzzzzzzzzzvxn', '51064936')\n",
      "('zzzzzzzzzzz_', '33077202')\n",
      "('zzzzzzzzzzz1', '26439242')\n",
      "('zzzzzzzzzzz', '15154612')\n",
      "('zzzzzzzzzzxxxxx', '46713429')\n",
      "('zzzzzzzzzzfea', '47600524')\n",
      "('zzzzzzzzzza', '17234233')\n",
      "('zzzzzzzzzz1', '23952807')\n",
      "('zzzzzzzzzz', '15433356')\n",
      "('zzzzzzzzzy', '24855332')\n",
      "('zzzzzzzzzxx', '37907486')\n",
      "('zzzzzzzzzpppppp', '27324363')\n",
      "('zzzzzzzzy', '47868263')\n",
      "('zzzzzzzzx', '49687325')\n"
     ]
    }
   ],
   "source": [
    "for i in range(20):\n",
    "    print(uname2id_map.popitem())"
   ]
  },
  {
   "cell_type": "code",
   "execution_count": null,
   "metadata": {},
   "outputs": [],
   "source": []
  }
 ],
 "metadata": {
  "kernelspec": {
   "display_name": "Python 3",
   "language": "python",
   "name": "python3"
  },
  "language_info": {
   "codemirror_mode": {
    "name": "ipython",
    "version": 3
   },
   "file_extension": ".py",
   "mimetype": "text/x-python",
   "name": "python",
   "nbconvert_exporter": "python",
   "pygments_lexer": "ipython3",
   "version": "3.6.5"
  }
 },
 "nbformat": 4,
 "nbformat_minor": 2
}
