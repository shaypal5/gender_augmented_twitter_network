{
 "cells": [
  {
   "cell_type": "markdown",
   "metadata": {},
   "source": [
    "### Monitoring memory in python"
   ]
  },
  {
   "cell_type": "code",
   "execution_count": 80,
   "metadata": {},
   "outputs": [],
   "source": [
    "import psutil"
   ]
  },
  {
   "cell_type": "code",
   "execution_count": 81,
   "metadata": {},
   "outputs": [],
   "source": [
    "# psutil.virtual_memory?"
   ]
  },
  {
   "cell_type": "code",
   "execution_count": 82,
   "metadata": {},
   "outputs": [
    {
     "data": {
      "text/plain": [
       "svmem(total=8369946624, available=4382461952, percent=47.6, used=3537788928, free=1636704256, active=3320774656, inactive=2263658496, buffers=227864576, cached=2967588864, shared=137945088, slab=540848128)"
      ]
     },
     "execution_count": 82,
     "metadata": {},
     "output_type": "execute_result"
    }
   ],
   "source": [
    "vmem = psutil.virtual_memory()\n",
    "vmem"
   ]
  },
  {
   "cell_type": "code",
   "execution_count": 83,
   "metadata": {},
   "outputs": [
    {
     "data": {
      "text/plain": [
       "8369946624"
      ]
     },
     "execution_count": 83,
     "metadata": {},
     "output_type": "execute_result"
    }
   ],
   "source": [
    "total_mem_bytes = vmem.total\n",
    "total_mem_bytes"
   ]
  },
  {
   "cell_type": "code",
   "execution_count": 84,
   "metadata": {},
   "outputs": [
    {
     "data": {
      "text/plain": [
       "4382461952"
      ]
     },
     "execution_count": 84,
     "metadata": {},
     "output_type": "execute_result"
    }
   ],
   "source": [
    "avail_mem_bytes = vmem.available\n",
    "avail_mem_bytes"
   ]
  },
  {
   "cell_type": "code",
   "execution_count": 7,
   "metadata": {},
   "outputs": [],
   "source": [
    "from ezenum import StringEnum\n",
    "LINETYPE = StringEnum(['Time', 'User', 'Content', 'Other'])"
   ]
  },
  {
   "cell_type": "code",
   "execution_count": 45,
   "metadata": {},
   "outputs": [],
   "source": [
    "def interpret_line(decoded_line):\n",
    "    try:\n",
    "        char1 = decoded_line[1]\n",
    "        if char1 == '\\t':\n",
    "            char0 = decoded_line[0]\n",
    "            if char0 == 'T':\n",
    "                return LINETYPE.Time, decoded_line[2:-1]\n",
    "            elif char0 == 'U':\n",
    "                return LINETYPE.User, decoded_line[21:-1]\n",
    "            elif char0 == 'W':\n",
    "                return LINETYPE.Content, decoded_line[2:-1]\n",
    "            else:\n",
    "                return LINETYPE.Other, decoded_line[2:-1]\n",
    "        else:\n",
    "            return LINETYPE.Other, ''\n",
    "    except IndexError:\n",
    "        return LINETYPE.Other, ''"
   ]
  },
  {
   "cell_type": "code",
   "execution_count": 112,
   "metadata": {},
   "outputs": [],
   "source": [
    "import gzip\n",
    "from time import time\n",
    "\n",
    "NO_CONTENT = 'No Post Title'\n",
    "user_to_tweets_str = {}\n",
    "# user_to_tweets_count = {}\n",
    "monitor_line_freq = 1000000\n",
    "min_avail_mem_bytes = 500 * 1000000\n",
    "report_template = (\n",
    "    '{:.2f} min running | {} lines processed | ~ {} tweets processed |'\n",
    "    ' {} tpm | {} available memory'\n",
    ")\n",
    "\n",
    "\n",
    "def merge_user_tweets_in_file(fpath, line_limit):\n",
    "    most_recent_user = None\n",
    "    starting_available_mem = psutil.virtual_memory().available\n",
    "    start_time = time()\n",
    "    with gzip.open(fpath, 'r') as textf:\n",
    "        for i, line in enumerate(textf):\n",
    "            try:\n",
    "                decoded_line = line.decode('utf-8')\n",
    "                ltype, lcontent = interpret_line(decoded_line)\n",
    "                if ltype == LINETYPE.User:\n",
    "                    most_recent_user = lcontent\n",
    "                elif ltype == LINETYPE.Content and lcontent != NO_CONTENT:\n",
    "                    user_to_tweets_str[most_recent_user] = user_to_tweets_str.get(\n",
    "                        most_recent_user, '') + ' ' + lcontent\n",
    "#                     user_to_tweets_count[most_recent_user] = user_to_tweets_count.get(most_recent_user, 0) + 1\n",
    "            except Exception as e:\n",
    "                print(decoded_line)\n",
    "                print(interpret_line(decoded_line))\n",
    "                raise e\n",
    "            if i % monitor_line_freq == 0:\n",
    "                av_mem = psutil.virtual_memory().available\n",
    "                seconds_running = time() - start_time\n",
    "                report = report_template.format(\n",
    "                    seconds_running / 60,\n",
    "                    i,\n",
    "                    i / 4,\n",
    "                    (i / 4) / (seconds_running / 60),\n",
    "                    av_mem,\n",
    "                )\n",
    "                print(report, end='\\r')\n",
    "                if av_mem < min_avail_mem_bytes:\n",
    "                    return\n",
    "#             if i >= line_limit:\n",
    "#                 break"
   ]
  },
  {
   "cell_type": "code",
   "execution_count": 113,
   "metadata": {},
   "outputs": [],
   "source": [
    "fpath1 = '/home/shaypalachy/data/twitter7/tweets2009-06.txt.gz'"
   ]
  },
  {
   "cell_type": "code",
   "execution_count": 114,
   "metadata": {
    "scrolled": false
   },
   "outputs": [
    {
     "name": "stdout",
     "output_type": "stream",
     "text": [
      "0.00 min running | 0 lines processed | ~ 0.0 tweets processed | 0.0 tpm | 3996278784 available memory\r"
     ]
    },
    {
     "ename": "KeyboardInterrupt",
     "evalue": "",
     "output_type": "error",
     "traceback": [
      "\u001b[0;31m---------------------------------------------------------------------------\u001b[0m",
      "\u001b[0;31mKeyboardInterrupt\u001b[0m                         Traceback (most recent call last)",
      "\u001b[0;32m<ipython-input-114-992180d08d3e>\u001b[0m in \u001b[0;36m<module>\u001b[0;34m()\u001b[0m\n\u001b[0;32m----> 1\u001b[0;31m \u001b[0mmerge_user_tweets_in_file\u001b[0m\u001b[0;34m(\u001b[0m\u001b[0mfpath1\u001b[0m\u001b[0;34m,\u001b[0m \u001b[0;36m10000\u001b[0m\u001b[0;34m)\u001b[0m\u001b[0;34m\u001b[0m\u001b[0m\n\u001b[0m",
      "\u001b[0;32m<ipython-input-112-69e59a8f8fe2>\u001b[0m in \u001b[0;36mmerge_user_tweets_in_file\u001b[0;34m(fpath, line_limit)\u001b[0m\n\u001b[1;32m     18\u001b[0m     \u001b[0mstart_time\u001b[0m \u001b[0;34m=\u001b[0m \u001b[0mtime\u001b[0m\u001b[0;34m(\u001b[0m\u001b[0;34m)\u001b[0m\u001b[0;34m\u001b[0m\u001b[0m\n\u001b[1;32m     19\u001b[0m     \u001b[0;32mwith\u001b[0m \u001b[0mgzip\u001b[0m\u001b[0;34m.\u001b[0m\u001b[0mopen\u001b[0m\u001b[0;34m(\u001b[0m\u001b[0mfpath\u001b[0m\u001b[0;34m,\u001b[0m \u001b[0;34m'r'\u001b[0m\u001b[0;34m)\u001b[0m \u001b[0;32mas\u001b[0m \u001b[0mtextf\u001b[0m\u001b[0;34m:\u001b[0m\u001b[0;34m\u001b[0m\u001b[0m\n\u001b[0;32m---> 20\u001b[0;31m         \u001b[0;32mfor\u001b[0m \u001b[0mi\u001b[0m\u001b[0;34m,\u001b[0m \u001b[0mline\u001b[0m \u001b[0;32min\u001b[0m \u001b[0menumerate\u001b[0m\u001b[0;34m(\u001b[0m\u001b[0mtextf\u001b[0m\u001b[0;34m)\u001b[0m\u001b[0;34m:\u001b[0m\u001b[0;34m\u001b[0m\u001b[0m\n\u001b[0m\u001b[1;32m     21\u001b[0m             \u001b[0;32mtry\u001b[0m\u001b[0;34m:\u001b[0m\u001b[0;34m\u001b[0m\u001b[0m\n\u001b[1;32m     22\u001b[0m                 \u001b[0mdecoded_line\u001b[0m \u001b[0;34m=\u001b[0m \u001b[0mline\u001b[0m\u001b[0;34m.\u001b[0m\u001b[0mdecode\u001b[0m\u001b[0;34m(\u001b[0m\u001b[0;34m'utf-8'\u001b[0m\u001b[0;34m)\u001b[0m\u001b[0;34m\u001b[0m\u001b[0m\n",
      "\u001b[0;32m~/.pyenv/versions/3.6.5/lib/python3.6/gzip.py\u001b[0m in \u001b[0;36mreadline\u001b[0;34m(self, size)\u001b[0m\n\u001b[1;32m    372\u001b[0m     \u001b[0;32mdef\u001b[0m \u001b[0mreadline\u001b[0m\u001b[0;34m(\u001b[0m\u001b[0mself\u001b[0m\u001b[0;34m,\u001b[0m \u001b[0msize\u001b[0m\u001b[0;34m=\u001b[0m\u001b[0;34m-\u001b[0m\u001b[0;36m1\u001b[0m\u001b[0;34m)\u001b[0m\u001b[0;34m:\u001b[0m\u001b[0;34m\u001b[0m\u001b[0m\n\u001b[1;32m    373\u001b[0m         \u001b[0mself\u001b[0m\u001b[0;34m.\u001b[0m\u001b[0m_check_not_closed\u001b[0m\u001b[0;34m(\u001b[0m\u001b[0;34m)\u001b[0m\u001b[0;34m\u001b[0m\u001b[0m\n\u001b[0;32m--> 374\u001b[0;31m         \u001b[0;32mreturn\u001b[0m \u001b[0mself\u001b[0m\u001b[0;34m.\u001b[0m\u001b[0m_buffer\u001b[0m\u001b[0;34m.\u001b[0m\u001b[0mreadline\u001b[0m\u001b[0;34m(\u001b[0m\u001b[0msize\u001b[0m\u001b[0;34m)\u001b[0m\u001b[0;34m\u001b[0m\u001b[0m\n\u001b[0m\u001b[1;32m    375\u001b[0m \u001b[0;34m\u001b[0m\u001b[0m\n\u001b[1;32m    376\u001b[0m \u001b[0;34m\u001b[0m\u001b[0m\n",
      "\u001b[0;31mKeyboardInterrupt\u001b[0m: "
     ]
    }
   ],
   "source": [
    "merge_user_tweets_in_file(fpath1, 10000)"
   ]
  },
  {
   "cell_type": "code",
   "execution_count": null,
   "metadata": {},
   "outputs": [],
   "source": [
    "# user_to_tweets_str"
   ]
  },
  {
   "cell_type": "code",
   "execution_count": 116,
   "metadata": {},
   "outputs": [
    {
     "data": {
      "text/plain": [
       "171753"
      ]
     },
     "execution_count": 116,
     "metadata": {},
     "output_type": "execute_result"
    }
   ],
   "source": [
    "len(user_to_tweets_str)"
   ]
  },
  {
   "cell_type": "code",
   "execution_count": 76,
   "metadata": {},
   "outputs": [
    {
     "data": {
      "text/plain": [
       "' Student murder sentences examined http://tinyurl.com/mkzt27 Surveys: More than 2M households unready for DTV (AP) http://tinyurl.com/naewb8'"
      ]
     },
     "execution_count": 76,
     "metadata": {},
     "output_type": "execute_result"
    }
   ],
   "source": [
    "user_to_tweets_str['poluakerford']"
   ]
  },
  {
   "cell_type": "code",
   "execution_count": null,
   "metadata": {},
   "outputs": [],
   "source": [
    "# user_to_tweets_count"
   ]
  },
  {
   "cell_type": "code",
   "execution_count": 77,
   "metadata": {},
   "outputs": [],
   "source": [
    "import sys"
   ]
  },
  {
   "cell_type": "code",
   "execution_count": 78,
   "metadata": {},
   "outputs": [
    {
     "data": {
      "text/plain": [
       "73824"
      ]
     },
     "execution_count": 78,
     "metadata": {},
     "output_type": "execute_result"
    }
   ],
   "source": [
    "sys.getsizeof(user_to_tweets_str)"
   ]
  },
  {
   "cell_type": "code",
   "execution_count": 79,
   "metadata": {},
   "outputs": [
    {
     "data": {
      "text/plain": [
       "73824"
      ]
     },
     "execution_count": 79,
     "metadata": {},
     "output_type": "execute_result"
    }
   ],
   "source": [
    "sys.getsizeof(user_to_tweets_count)"
   ]
  },
  {
   "cell_type": "code",
   "execution_count": null,
   "metadata": {},
   "outputs": [],
   "source": []
  }
 ],
 "metadata": {
  "kernelspec": {
   "display_name": "Python 3",
   "language": "python",
   "name": "python3"
  },
  "language_info": {
   "codemirror_mode": {
    "name": "ipython",
    "version": 3
   },
   "file_extension": ".py",
   "mimetype": "text/x-python",
   "name": "python",
   "nbconvert_exporter": "python",
   "pygments_lexer": "ipython3",
   "version": "3.6.5"
  }
 },
 "nbformat": 4,
 "nbformat_minor": 2
}
