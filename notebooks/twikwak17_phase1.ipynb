{
 "cells": [
  {
   "cell_type": "markdown",
   "metadata": {},
   "source": [
    "## Monitoring memory in python"
   ]
  },
  {
   "cell_type": "code",
   "execution_count": null,
   "metadata": {},
   "outputs": [],
   "source": [
    "import psutil"
   ]
  },
  {
   "cell_type": "code",
   "execution_count": null,
   "metadata": {},
   "outputs": [],
   "source": [
    "# psutil.virtual_memory?"
   ]
  },
  {
   "cell_type": "code",
   "execution_count": null,
   "metadata": {},
   "outputs": [],
   "source": [
    "vmem = psutil.virtual_memory()\n",
    "vmem"
   ]
  },
  {
   "cell_type": "code",
   "execution_count": null,
   "metadata": {},
   "outputs": [],
   "source": [
    "total_mem_bytes = vmem.total\n",
    "total_mem_bytes"
   ]
  },
  {
   "cell_type": "code",
   "execution_count": null,
   "metadata": {},
   "outputs": [],
   "source": [
    "avail_mem_bytes = vmem.available\n",
    "avail_mem_bytes"
   ]
  },
  {
   "cell_type": "markdown",
   "metadata": {},
   "source": [
    "## File probing"
   ]
  },
  {
   "cell_type": "code",
   "execution_count": null,
   "metadata": {},
   "outputs": [],
   "source": [
    "import gzip\n",
    "\n",
    "def probe_file(fpath, lines_to_probe=100):\n",
    "    with gzip.open(fpath, 'rt') as f:\n",
    "        for i, line in enumerate(f):\n",
    "            print(line)\n",
    "            if i==lines_to_probe:\n",
    "                return"
   ]
  },
  {
   "cell_type": "markdown",
   "metadata": {},
   "source": [
    "## Reading lines"
   ]
  },
  {
   "cell_type": "code",
   "execution_count": null,
   "metadata": {},
   "outputs": [],
   "source": [
    "from ezenum import StringEnum\n",
    "LINETYPE = StringEnum(['Time', 'User', 'Content', 'Other'])"
   ]
  },
  {
   "cell_type": "code",
   "execution_count": null,
   "metadata": {},
   "outputs": [],
   "source": [
    "def interpret_line(decoded_line):\n",
    "    try:\n",
    "        char1 = decoded_line[1]\n",
    "        if char1 == '\\t':\n",
    "            char0 = decoded_line[0]\n",
    "            if char0 == 'T':\n",
    "                return LINETYPE.Time, decoded_line[2:-1]\n",
    "            elif char0 == 'U':\n",
    "                return LINETYPE.User, decoded_line[21:-1]\n",
    "            elif char0 == 'W':\n",
    "                return LINETYPE.Content, decoded_line[2:-1]\n",
    "            else:\n",
    "                return LINETYPE.Other, decoded_line[2:-1]\n",
    "        else:\n",
    "            return LINETYPE.Other, ''\n",
    "    except IndexError:\n",
    "        return LINETYPE.Other, ''"
   ]
  },
  {
   "cell_type": "code",
   "execution_count": null,
   "metadata": {},
   "outputs": [],
   "source": [
    "import gzip\n",
    "from time import time\n",
    "\n",
    "NO_CONTENT = 'No Post Title'\n",
    "user_to_tweets_str = {}\n",
    "# user_to_tweets_count = {}\n",
    "monitor_line_freq = 1000000\n",
    "min_avail_mem_bytes = 500 * 1000000\n",
    "report_template = (\n",
    "    '{:.2f} min running | {} lines processed | ~ {} tweets processed |'\n",
    "    ' {} tpm | {} available memory'\n",
    ")\n",
    "\n",
    "\n",
    "def merge_user_tweets_in_file(fpath, line_limit):\n",
    "    most_recent_user = None\n",
    "    starting_available_mem = psutil.virtual_memory().available\n",
    "    start_time = time()\n",
    "    with gzip.open(fpath, 'rt') as textf:\n",
    "        for i, line in enumerate(textf):\n",
    "            try:\n",
    "#                 print(line)\n",
    "#                 print(interpret_line(line))\n",
    "                ltype, lcontent = interpret_line(line)\n",
    "                if ltype == LINETYPE.User:\n",
    "                    most_recent_user = lcontent\n",
    "                elif ltype == LINETYPE.Content and lcontent != NO_CONTENT:\n",
    "                    user_to_tweets_str[most_recent_user] = user_to_tweets_str.get(\n",
    "                        most_recent_user, '') + ' ' + lcontent\n",
    "#                     user_to_tweets_count[most_recent_user] = user_to_tweets_count.get(most_recent_user, 0) + 1\n",
    "            except Exception as e:\n",
    "                print(line)\n",
    "                print(interpret_line(line))\n",
    "                raise e\n",
    "            if i % monitor_line_freq == 0:\n",
    "                av_mem = psutil.virtual_memory().available\n",
    "                seconds_running = time() - start_time\n",
    "                report = report_template.format(\n",
    "                    seconds_running / 60,\n",
    "                    i,\n",
    "                    i / 4,\n",
    "                    (i / 4) / (seconds_running / 60),\n",
    "                    av_mem,\n",
    "                )\n",
    "                print(report, end='\\r')\n",
    "                if av_mem < min_avail_mem_bytes:\n",
    "                    return\n",
    "#             if i >= line_limit:\n",
    "#                 break"
   ]
  },
  {
   "cell_type": "code",
   "execution_count": null,
   "metadata": {},
   "outputs": [],
   "source": [
    "source1_fpath = '/home/shaypalachy/data/twitter7/tweets2009-06.txt.gz'"
   ]
  },
  {
   "cell_type": "code",
   "execution_count": null,
   "metadata": {},
   "outputs": [],
   "source": [
    "sample_fpath = '/home/shaypalachy/data/twitter7/twitter7_sample.txt.gz'"
   ]
  },
  {
   "cell_type": "code",
   "execution_count": null,
   "metadata": {
    "scrolled": false
   },
   "outputs": [],
   "source": [
    "merge_user_tweets_in_file(fpath1, 10000)"
   ]
  },
  {
   "cell_type": "code",
   "execution_count": null,
   "metadata": {},
   "outputs": [],
   "source": [
    "# user_to_tweets_str"
   ]
  },
  {
   "cell_type": "code",
   "execution_count": null,
   "metadata": {},
   "outputs": [],
   "source": [
    "len(user_to_tweets_str)"
   ]
  },
  {
   "cell_type": "code",
   "execution_count": null,
   "metadata": {},
   "outputs": [],
   "source": [
    "user_to_tweets_str['poluakerford']"
   ]
  },
  {
   "cell_type": "code",
   "execution_count": null,
   "metadata": {},
   "outputs": [],
   "source": [
    "# user_to_tweets_count"
   ]
  },
  {
   "cell_type": "code",
   "execution_count": null,
   "metadata": {},
   "outputs": [],
   "source": [
    "import sys"
   ]
  },
  {
   "cell_type": "code",
   "execution_count": null,
   "metadata": {},
   "outputs": [],
   "source": [
    "sys.getsizeof(user_to_tweets_str)"
   ]
  },
  {
   "cell_type": "code",
   "execution_count": null,
   "metadata": {},
   "outputs": [],
   "source": [
    "sys.getsizeof(user_to_tweets_count)"
   ]
  },
  {
   "cell_type": "markdown",
   "metadata": {},
   "source": [
    "## Run finished code"
   ]
  },
  {
   "cell_type": "code",
   "execution_count": null,
   "metadata": {},
   "outputs": [],
   "source": [
    "from twikwak17.sample import sample_twitter7"
   ]
  },
  {
   "cell_type": "code",
   "execution_count": null,
   "metadata": {},
   "outputs": [],
   "source": [
    "sample_twitter7(num_tweets=50000, source_fpath=source1_fpath)"
   ]
  },
  {
   "cell_type": "code",
   "execution_count": 1,
   "metadata": {},
   "outputs": [],
   "source": [
    "from twikwak17.phases.phase1 import merge_user_tweets_in_file"
   ]
  },
  {
   "cell_type": "code",
   "execution_count": 2,
   "metadata": {},
   "outputs": [],
   "source": [
    "sample_fpath = '/home/shaypalachy/data/twitter7/twitter7_sample.txt.gz'"
   ]
  },
  {
   "cell_type": "code",
   "execution_count": 3,
   "metadata": {
    "scrolled": false
   },
   "outputs": [
    {
     "name": "stdout",
     "output_type": "stream",
     "text": [
      "Merging tweets by user in /home/shaypalachy/data/twitter7/twitter7_sample.txt.gz.\n",
      "Monitor line frequency is 1000000 and min allowed memory (MB) is 500.\n",
      "0.03 min running | 200000 lines processed | ~ 50000.0 tweets processed | 1656183.267838415 tpm | 1 files written | 5814308864 available memory\r"
     ]
    }
   ],
   "source": [
    "merge_user_tweets_in_file(sample_fpath)"
   ]
  },
  {
   "cell_type": "code",
   "execution_count": 4,
   "metadata": {},
   "outputs": [
    {
     "ename": "NameError",
     "evalue": "name 'probe_file' is not defined",
     "output_type": "error",
     "traceback": [
      "\u001b[0;31m---------------------------------------------------------------------------\u001b[0m",
      "\u001b[0;31mNameError\u001b[0m                                 Traceback (most recent call last)",
      "\u001b[0;32m<ipython-input-4-83c4b11339be>\u001b[0m in \u001b[0;36m<module>\u001b[0;34m()\u001b[0m\n\u001b[0;32m----> 1\u001b[0;31m \u001b[0mprobe_file\u001b[0m\u001b[0;34m(\u001b[0m\u001b[0;34m'/home/shaypalachy/data/twitter7/twitter7_sample_p1dump_0.txt.gz'\u001b[0m\u001b[0;34m,\u001b[0m \u001b[0;36m100\u001b[0m\u001b[0;34m)\u001b[0m\u001b[0;34m\u001b[0m\u001b[0m\n\u001b[0m",
      "\u001b[0;31mNameError\u001b[0m: name 'probe_file' is not defined"
     ]
    }
   ],
   "source": [
    "probe_file('/home/shaypalachy/data/twitter7/twitter7_sample_p1dump_0.txt.gz', 100)"
   ]
  },
  {
   "cell_type": "code",
   "execution_count": null,
   "metadata": {},
   "outputs": [],
   "source": []
  }
 ],
 "metadata": {
  "kernelspec": {
   "display_name": "Python 3",
   "language": "python",
   "name": "python3"
  },
  "language_info": {
   "codemirror_mode": {
    "name": "ipython",
    "version": 3
   },
   "file_extension": ".py",
   "mimetype": "text/x-python",
   "name": "python",
   "nbconvert_exporter": "python",
   "pygments_lexer": "ipython3",
   "version": "3.6.5"
  }
 },
 "nbformat": 4,
 "nbformat_minor": 2
}
