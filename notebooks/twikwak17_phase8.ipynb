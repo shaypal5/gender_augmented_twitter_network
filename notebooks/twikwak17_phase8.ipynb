{
 "cells": [
  {
   "cell_type": "code",
   "execution_count": 1,
   "metadata": {},
   "outputs": [],
   "source": [
    "fpath = '/home/shaypalachy/Dropbox/data/twikwak17/twikwak17_social_graph.txt.gz'"
   ]
  },
  {
   "cell_type": "code",
   "execution_count": 2,
   "metadata": {},
   "outputs": [],
   "source": [
    "import gzip"
   ]
  },
  {
   "cell_type": "code",
   "execution_count": 11,
   "metadata": {},
   "outputs": [],
   "source": [
    "lines = 100\n",
    "f = gzip.open(fpath, 'rt')"
   ]
  },
  {
   "cell_type": "code",
   "execution_count": 10,
   "metadata": {},
   "outputs": [
    {
     "name": "stdout",
     "output_type": "stream",
     "text": [
      "28023 28023\n",
      "\n",
      "28043 28043\n",
      "\n",
      "28513 28513\n",
      "\n",
      "28763 28763\n",
      "\n",
      "28873 28873\n",
      "\n",
      "29043 29043\n",
      "\n",
      "29283 29283\n",
      "\n",
      "29353 29353\n",
      "\n",
      "29803 29803\n",
      "\n",
      "30473 30473\n",
      "\n",
      "30923 30923\n",
      "\n",
      "30953 30953\n",
      "\n",
      "30963 30963\n",
      "\n",
      "31253 31253\n",
      "\n",
      "31383 31383\n",
      "\n",
      "31393 31393\n",
      "\n",
      "31733 31733\n",
      "\n",
      "32893 32893\n",
      "\n",
      "33063 33063\n",
      "\n",
      "33313 33313\n",
      "\n",
      "33353 33353\n",
      "\n",
      "34543 34543\n",
      "\n",
      "34863 34863\n",
      "\n",
      "34883 34883\n",
      "\n",
      "35873 35873\n",
      "\n",
      "36093 36093\n",
      "\n",
      "36183 36183\n",
      "\n",
      "36823 36823\n",
      "\n",
      "37573 37573\n",
      "\n",
      "37613 37613\n",
      "\n",
      "37823 37823\n",
      "\n",
      "38523 38523\n",
      "\n",
      "39293 39293\n",
      "\n",
      "39593 39593\n",
      "\n",
      "39623 39623\n",
      "\n",
      "39653 39653\n",
      "\n",
      "39683 39683\n",
      "\n",
      "40013 40013\n",
      "\n",
      "40153 40153\n",
      "\n",
      "40473 40473\n",
      "\n",
      "41023 41023\n",
      "\n",
      "42983 42983\n",
      "\n",
      "43693 43693\n",
      "\n",
      "43813 43813\n",
      "\n",
      "43913 43913\n",
      "\n",
      "44253 44253\n",
      "\n",
      "44583 44583\n",
      "\n",
      "45013 45013\n",
      "\n",
      "45803 45803\n",
      "\n",
      "46063 46063\n",
      "\n",
      "46273 46273\n",
      "\n",
      "46713 46713\n",
      "\n",
      "46833 46833\n",
      "\n",
      "46943 46943\n",
      "\n",
      "47013 47013\n",
      "\n",
      "47083 47083\n",
      "\n",
      "47293 47293\n",
      "\n",
      "48243 48243\n",
      "\n",
      "48263 48263\n",
      "\n",
      "48273 48273\n",
      "\n",
      "48933 48933\n",
      "\n",
      "49543 49543\n",
      "\n",
      "49753 49753\n",
      "\n",
      "49943 49943\n",
      "\n",
      "50043 50043\n",
      "\n",
      "50613 50613\n",
      "\n",
      "50713 50713\n",
      "\n",
      "51013 51013\n",
      "\n",
      "51463 51463\n",
      "\n",
      "51723 51723\n",
      "\n",
      "51793 51793\n",
      "\n",
      "51813 51813\n",
      "\n",
      "51943 51943\n",
      "\n",
      "52343 52343\n",
      "\n",
      "52533 52533\n",
      "\n",
      "53003 53003\n",
      "\n",
      "53213 53213\n",
      "\n",
      "53223 53223\n",
      "\n",
      "53543 53543\n",
      "\n",
      "53613 53613\n",
      "\n",
      "53793 53793\n",
      "\n",
      "53953 53953\n",
      "\n",
      "54613 54613\n",
      "\n",
      "54903 54903\n",
      "\n",
      "55063 55063\n",
      "\n",
      "55993 55993\n",
      "\n",
      "56153 56153\n",
      "\n",
      "56623 56623\n",
      "\n",
      "57533 57533\n",
      "\n",
      "57813 57813\n",
      "\n",
      "58113 58113\n",
      "\n",
      "58123 58123\n",
      "\n",
      "58303 58303\n",
      "\n",
      "58313 58313\n",
      "\n",
      "58363 58363\n",
      "\n",
      "58403 58403\n",
      "\n",
      "59223 59223\n",
      "\n",
      "59873 59873\n",
      "\n",
      "60203 60203\n",
      "\n",
      "60663 60663\n",
      "\n"
     ]
    }
   ],
   "source": [
    "for i in range(lines):\n",
    "    print(f.readline())"
   ]
  },
  {
   "cell_type": "code",
   "execution_count": 14,
   "metadata": {},
   "outputs": [],
   "source": [
    "import re\n",
    "regex = '(\\d+) (\\d+)'"
   ]
  },
  {
   "cell_type": "code",
   "execution_count": 36,
   "metadata": {},
   "outputs": [],
   "source": [
    "prev_user = -2\n",
    "current_user = -1\n",
    "user_count = 0"
   ]
  },
  {
   "cell_type": "code",
   "execution_count": 37,
   "metadata": {},
   "outputs": [
    {
     "name": "stdout",
     "output_type": "stream",
     "text": [
      "Final user count:196987\n"
     ]
    }
   ],
   "source": [
    "f = gzip.open(fpath, 'rt')\n",
    "while prev_user <= current_user:\n",
    "    prev_user = current_user\n",
    "    line = f.readline()\n",
    "    current_user, target = re.findall(regex, line)[0]\n",
    "    current_user = int(current_user)\n",
    "    user_count += 1\n",
    "    if user_count % 1000000 == 0:\n",
    "        print(f\"User count:{user_count}\")\n",
    "print(f\"Final user count:{user_count}\")"
   ]
  },
  {
   "cell_type": "code",
   "execution_count": 34,
   "metadata": {},
   "outputs": [
    {
     "data": {
      "text/plain": [
       "53907737"
      ]
     },
     "execution_count": 34,
     "metadata": {},
     "output_type": "execute_result"
    }
   ],
   "source": [
    "prev_user"
   ]
  },
  {
   "cell_type": "code",
   "execution_count": 35,
   "metadata": {},
   "outputs": [
    {
     "data": {
      "text/plain": [
       "12"
      ]
     },
     "execution_count": 35,
     "metadata": {},
     "output_type": "execute_result"
    }
   ],
   "source": [
    "current_user"
   ]
  },
  {
   "cell_type": "code",
   "execution_count": null,
   "metadata": {},
   "outputs": [],
   "source": []
  }
 ],
 "metadata": {
  "kernelspec": {
   "display_name": "Python 3",
   "language": "python",
   "name": "python3"
  },
  "language_info": {
   "codemirror_mode": {
    "name": "ipython",
    "version": 3
   },
   "file_extension": ".py",
   "mimetype": "text/x-python",
   "name": "python",
   "nbconvert_exporter": "python",
   "pygments_lexer": "ipython3",
   "version": "3.6.5"
  }
 },
 "nbformat": 4,
 "nbformat_minor": 2
}
