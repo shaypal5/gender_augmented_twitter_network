{
 "cells": [
  {
   "cell_type": "code",
   "execution_count": 13,
   "metadata": {},
   "outputs": [],
   "source": [
    "import gzip"
   ]
  },
  {
   "cell_type": "code",
   "execution_count": 14,
   "metadata": {},
   "outputs": [],
   "source": [
    "# t7u_fpath = '/home/shaypalachy/Dropbox/data/twikwak17/phase_1_output/twitter7_user_list.txt.gz'\n",
    "t7u_fpath = '/home/shaypalachy/Dropbox/data/twikwak17/phase_1_output/twitter7_user_list_sorted.txt.gz'"
   ]
  },
  {
   "cell_type": "code",
   "execution_count": 15,
   "metadata": {},
   "outputs": [],
   "source": [
    "t7u = gzip.open(t7u_fpath, 'rt')"
   ]
  },
  {
   "cell_type": "code",
   "execution_count": 16,
   "metadata": {},
   "outputs": [],
   "source": [
    "lines = []\n",
    "for i in range(10):\n",
    "    lines.append(t7u.readline())"
   ]
  },
  {
   "cell_type": "code",
   "execution_count": 17,
   "metadata": {},
   "outputs": [
    {
     "data": {
      "text/plain": [
       "['\\n',\n",
       " ' bdogg\\n',\n",
       " ' diamond\\n',\n",
       " '0\\n',\n",
       " '00000\\n',\n",
       " '00000000\\n',\n",
       " '000000000000038\\n',\n",
       " '000000000000111\\n',\n",
       " '000000000101010\\n',\n",
       " '000000000wesley\\n']"
      ]
     },
     "execution_count": 17,
     "metadata": {},
     "output_type": "execute_result"
    }
   ],
   "source": [
    "lines"
   ]
  },
  {
   "cell_type": "code",
   "execution_count": 18,
   "metadata": {},
   "outputs": [],
   "source": [
    "line1 = lines[0]"
   ]
  },
  {
   "cell_type": "code",
   "execution_count": 19,
   "metadata": {},
   "outputs": [
    {
     "data": {
      "text/plain": [
       "'\\n'"
      ]
     },
     "execution_count": 19,
     "metadata": {},
     "output_type": "execute_result"
    }
   ],
   "source": [
    "line1"
   ]
  },
  {
   "cell_type": "code",
   "execution_count": 20,
   "metadata": {},
   "outputs": [
    {
     "data": {
      "text/plain": [
       "' bdogg\\n'"
      ]
     },
     "execution_count": 20,
     "metadata": {},
     "output_type": "execute_result"
    }
   ],
   "source": [
    "lines[1]"
   ]
  },
  {
   "cell_type": "code",
   "execution_count": 21,
   "metadata": {},
   "outputs": [],
   "source": [
    "import re"
   ]
  },
  {
   "cell_type": "code",
   "execution_count": 22,
   "metadata": {},
   "outputs": [],
   "source": [
    "match1 = re.match('\\s*\\S+', lines[1])"
   ]
  },
  {
   "cell_type": "code",
   "execution_count": 23,
   "metadata": {},
   "outputs": [
    {
     "data": {
      "text/plain": [
       "[' bdogg']"
      ]
     },
     "execution_count": 23,
     "metadata": {},
     "output_type": "execute_result"
    }
   ],
   "source": [
    "re.findall('\\s*\\S+', lines[1])"
   ]
  },
  {
   "cell_type": "code",
   "execution_count": 24,
   "metadata": {},
   "outputs": [
    {
     "data": {
      "text/plain": [
       "'s'"
      ]
     },
     "execution_count": 24,
     "metadata": {},
     "output_type": "execute_result"
    }
   ],
   "source": [
    "'sdfs'[0]"
   ]
  },
  {
   "cell_type": "code",
   "execution_count": 25,
   "metadata": {},
   "outputs": [],
   "source": [
    "matchi = None\n",
    "i = 0\n",
    "while True:\n",
    "    line = t7u.readline()\n",
    "    if line[0] == '_':\n",
    "        matchi = line\n",
    "        break\n",
    "    i += 1"
   ]
  },
  {
   "cell_type": "code",
   "execution_count": 26,
   "metadata": {},
   "outputs": [
    {
     "data": {
      "text/plain": [
       "148521"
      ]
     },
     "execution_count": 26,
     "metadata": {},
     "output_type": "execute_result"
    }
   ],
   "source": [
    "i"
   ]
  },
  {
   "cell_type": "code",
   "execution_count": 27,
   "metadata": {},
   "outputs": [
    {
     "data": {
      "text/plain": [
       "'_\\n'"
      ]
     },
     "execution_count": 27,
     "metadata": {},
     "output_type": "execute_result"
    }
   ],
   "source": [
    "matchi"
   ]
  },
  {
   "cell_type": "code",
   "execution_count": 28,
   "metadata": {},
   "outputs": [
    {
     "data": {
      "text/plain": [
       "False"
      ]
     },
     "execution_count": 28,
     "metadata": {},
     "output_type": "execute_result"
    }
   ],
   "source": [
    "'_234' < 'Asd'"
   ]
  },
  {
   "cell_type": "code",
   "execution_count": 29,
   "metadata": {},
   "outputs": [
    {
     "data": {
      "text/plain": [
       "['*', '0', '1', '11', '234', '9', '9234', 'A', 'Z', '_', 'a', 'z']"
      ]
     },
     "execution_count": 29,
     "metadata": {},
     "output_type": "execute_result"
    }
   ],
   "source": [
    "sorted(['0', '1', '9', '11', '234', '9234', 'a', 'z', 'A', 'Z', '_', '*'])"
   ]
  },
  {
   "cell_type": "code",
   "execution_count": 74,
   "metadata": {},
   "outputs": [],
   "source": [
    "lines = []\n",
    "for i in range(10000):\n",
    "    lines.append(t7u.readline())"
   ]
  },
  {
   "cell_type": "code",
   "execution_count": 75,
   "metadata": {},
   "outputs": [
    {
     "data": {
      "text/plain": [
       "['aa_aline\\n',\n",
       " 'aa_amandiiinha\\n',\n",
       " 'aa_amar\\n',\n",
       " 'aa_anderson\\n',\n",
       " 'aa_andheidix\\n',\n",
       " 'aa_anger\\n',\n",
       " 'aa_ansari\\n',\n",
       " 'aa_aqua\\n',\n",
       " 'aa_ari3\\n',\n",
       " 'aa_artcanvas\\n',\n",
       " 'aa_asif\\n',\n",
       " 'aa_b\\n',\n",
       " 'aa_bartel\\n',\n",
       " 'aa_batteries\\n',\n",
       " 'aa_bby\\n',\n",
       " 'aa_beast\\n',\n",
       " 'aa_bgenk\\n',\n",
       " 'aa_bn\\n',\n",
       " 'aa_boogie\\n',\n",
       " 'aa_boss\\n',\n",
       " 'aa_breezy\\n',\n",
       " 'aa_bronson\\n',\n",
       " 'aa_bubbles\\n',\n",
       " 'aa_bulkvending\\n',\n",
       " 'aa_bunso26\\n',\n",
       " 'aa_butta\\n',\n",
       " 'aa_c\\n',\n",
       " 'aa_canvas\\n',\n",
       " 'aa_cg\\n',\n",
       " 'aa_cha_layyy\\n',\n",
       " 'aa_chan\\n',\n",
       " 'aa_co\\n',\n",
       " 'aa_cokiey\\n',\n",
       " 'aa_costa\\n',\n",
       " 'aa_creations\\n',\n",
       " 'aa_creative\\n',\n",
       " 'aa_ct\\n',\n",
       " 'aa_d0ni\\n',\n",
       " 'aa_d1a\\n',\n",
       " 'aa_deni\\n',\n",
       " 'aa_design\\n',\n",
       " 'aa_design_14\\n',\n",
       " 'aa_dhan\\n',\n",
       " 'aa_dharma\\n',\n",
       " 'aa_dicapo\\n',\n",
       " 'aa_dii\\n',\n",
       " 'aa_dreano\\n',\n",
       " 'aa_ea_aa\\n',\n",
       " 'aa_education\\n',\n",
       " 'aa_eduserv\\n',\n",
       " 'aa_emig\\n',\n",
       " 'aa_eric\\n',\n",
       " 'aa_eve_aa\\n',\n",
       " 'aa_eyoy\\n',\n",
       " 'aa_ferry\\n',\n",
       " 'aa_for_booze\\n',\n",
       " 'aa_ford\\n',\n",
       " 'aa_fowler\\n',\n",
       " 'aa_francana\\n',\n",
       " 'aa_freire\\n',\n",
       " 'aa_geoffrey\\n',\n",
       " 'aa_ghun\\n',\n",
       " 'aa_greenwood\\n',\n",
       " 'aa_guitar\\n',\n",
       " 'aa_gym\\n',\n",
       " 'aa_haq\\n',\n",
       " 'aa_holiday\\n',\n",
       " 'aa_iguy\\n',\n",
       " 'aa_inc\\n',\n",
       " 'aa_is_ok\\n',\n",
       " 'aa_isp\\n',\n",
       " 'aa_its_bluerose\\n',\n",
       " 'aa_jacky\\n',\n",
       " 'aa_jay\\n',\n",
       " 'aa_jecky\\n',\n",
       " 'aa_jim\\n',\n",
       " 'aa_jonathan_aa\\n',\n",
       " 'aa_ka138\\n',\n",
       " 'aa_kaikei_girl\\n',\n",
       " 'aa_kana\\n',\n",
       " 'aa_kasep\\n',\n",
       " 'aa_kaseph\\n',\n",
       " 'aa_kenshin\\n',\n",
       " 'aa_kiudct\\n',\n",
       " 'aa_kokopelli7\\n',\n",
       " 'aa_la\\n',\n",
       " 'aa_laft_dd\\n',\n",
       " 'aa_lai\\n',\n",
       " 'aa_leather\\n',\n",
       " 'aa_lee\\n',\n",
       " 'aa_lemoine\\n',\n",
       " 'aa_lil\\n',\n",
       " 'aa_line\\n',\n",
       " 'aa_llc\\n',\n",
       " 'aa_lupi\\n',\n",
       " 'aa_lym\\n',\n",
       " 'aa_m\\n',\n",
       " 'aa_maarleveld\\n',\n",
       " 'aa_mac\\n',\n",
       " 'aa_mari\\n',\n",
       " 'aa_mayasari\\n',\n",
       " 'aa_mckinnon\\n',\n",
       " 'aa_me75\\n',\n",
       " 'aa_mediagroup\\n',\n",
       " 'aa_meli\\n',\n",
       " 'aa_melie\\n',\n",
       " 'aa_memon\\n',\n",
       " 'aa_miller\\n',\n",
       " 'aa_minstrel\\n',\n",
       " 'aa_mittsu\\n',\n",
       " 'aa_moico\\n',\n",
       " 'aa_money\\n',\n",
       " 'aa_moore\\n',\n",
       " 'aa_moose_aa\\n',\n",
       " 'aa_mrdynamic\\n',\n",
       " 'aa_news\\n',\n",
       " 'aa_ngel\\n',\n",
       " 'aa_niya\\n',\n",
       " 'aa_nnaann\\n',\n",
       " 'aa_nurmawan\\n',\n",
       " 'aa_ojak\\n',\n",
       " 'aa_on_the_real\\n',\n",
       " 'aa_panjank\\n',\n",
       " 'aa_paradisofan\\n',\n",
       " 'aa_pelo\\n',\n",
       " 'aa_photography\\n',\n",
       " 'aa_pick\\n',\n",
       " 'aa_pilot\\n',\n",
       " 'aa_poker\\n',\n",
       " 'aa_punk\\n',\n",
       " 'aa_quotes\\n',\n",
       " 'aa_radjat\\n',\n",
       " 'aa_rani\\n',\n",
       " 'aa_reflections\\n',\n",
       " 'aa_ria_28angel\\n',\n",
       " 'aa_river\\n',\n",
       " 'aa_riza\\n',\n",
       " 'aa_ronn\\n',\n",
       " 'aa_ruslan\\n',\n",
       " 'aa_s\\n',\n",
       " 'aa_santos\\n',\n",
       " 'aa_sell00\\n',\n",
       " 'aa_shawn\\n',\n",
       " 'aa_simpson\\n',\n",
       " 'aa_sousa\\n',\n",
       " 'aa_subandhie\\n',\n",
       " 'aa_sugi\\n',\n",
       " 'aa_t\\n',\n",
       " 'aa_tangri\\n',\n",
       " 'aa_teds\\n',\n",
       " 'aa_thehaisho\\n',\n",
       " 'aa_thomasian\\n',\n",
       " 'aa_thompson\\n',\n",
       " 'aa_tm\\n',\n",
       " 'aa_traffic\\n',\n",
       " 'aa_tx74\\n',\n",
       " 'aa_tyo\\n',\n",
       " 'aa_uphill\\n',\n",
       " 'aa_utte\\n',\n",
       " 'aa_uwi\\n',\n",
       " 'aa_vaharani\\n',\n",
       " 'aa_web_4u\\n',\n",
       " 'aa_wedding\\n',\n",
       " 'aa_whoah\\n',\n",
       " 'aa_williamson\\n',\n",
       " 'aa_wirabumi\\n',\n",
       " 'aa_ww\\n',\n",
       " 'aa_xoxo\\n',\n",
       " 'aa_xx\\n',\n",
       " 'aa_yee_sha\\n',\n",
       " 'aa_yokaren\\n',\n",
       " 'aa_young\\n',\n",
       " 'aa_yunas\\n',\n",
       " 'aa_z\\n',\n",
       " 'aa_zanx\\n',\n",
       " 'aa_zie\\n',\n",
       " 'aa_zul\\n',\n",
       " 'aaa\\n',\n",
       " 'aaa00a\\n',\n",
       " 'aaa013\\n',\n",
       " 'aaa09281\\n',\n",
       " 'aaa0jkj\\n',\n",
       " 'aaa102\\n',\n",
       " 'aaa111428\\n',\n",
       " 'aaa1128\\n',\n",
       " 'aaa123456\\n',\n",
       " 'aaa1326\\n',\n",
       " 'aaa18049\\n',\n",
       " 'aaa1809\\n',\n",
       " 'aaa182\\n',\n",
       " 'aaa1956\\n',\n",
       " 'aaa19784\\n',\n",
       " 'aaa1980\\n',\n",
       " 'aaa1991\\n',\n",
       " 'aaa1994\\n',\n",
       " 'aaa1luv\\n',\n",
       " 'aaa1travel\\n',\n",
       " 'aaa2013lexis\\n',\n",
       " 'aaa2013lovchild\\n',\n",
       " 'aaa2103\\n',\n",
       " 'aaa2387\\n',\n",
       " 'aaa2408\\n',\n",
       " 'aaa26mo\\n',\n",
       " 'aaa31\\n',\n",
       " 'aaa33355533\\n',\n",
       " 'aaa34bbb56ccc\\n',\n",
       " 'aaa36\\n',\n",
       " 'aaa37\\n',\n",
       " 'aaa3737375\\n',\n",
       " 'aaa46\\n',\n",
       " 'aaa4_ever\\n',\n",
       " 'aaa4life\\n',\n",
       " 'aaa510510\\n',\n",
       " 'aaa5241\\n',\n",
       " 'aaa5599\\n',\n",
       " 'aaa66\\n',\n",
       " 'aaa666\\n',\n",
       " 'aaa72\\n',\n",
       " 'aaa73ccc\\n',\n",
       " 'aaa7528258\\n',\n",
       " 'aaa77\\n',\n",
       " 'aaa809\\n',\n",
       " 'aaa818\\n',\n",
       " 'aaa84\\n',\n",
       " 'aaa841\\n',\n",
       " 'aaa888999\\n',\n",
       " 'aaa9\\n',\n",
       " 'aaa90\\n',\n",
       " 'aaa_3peso\\n',\n",
       " 'aaa____\\n',\n",
       " 'aaa_aaa0802\\n',\n",
       " 'aaa_aery\\n',\n",
       " 'aaa_amerah\\n',\n",
       " 'aaa_amrrruh\\n',\n",
       " 'aaa_aprill\\n',\n",
       " 'aaa_avalon\\n',\n",
       " 'aaa_azerbaijan\\n',\n",
       " 'aaa_baa\\n',\n",
       " 'aaa_binicitaxi\\n',\n",
       " 'aaa_boss\\n',\n",
       " 'aaa_copywriter\\n',\n",
       " 'aaa_dish\\n',\n",
       " 'aaa_dyone\\n',\n",
       " 'aaa_eisan\\n',\n",
       " 'aaa_en\\n',\n",
       " 'aaa_f\\n',\n",
       " 'aaa_h\\n',\n",
       " 'aaa_ja\\n',\n",
       " 'aaa_japan\\n',\n",
       " 'aaa_jp\\n',\n",
       " 'aaa_m\\n',\n",
       " 'aaa_na\\n',\n",
       " 'aaa_ne_vermont\\n',\n",
       " 'aaa_nice04\\n',\n",
       " 'aaa_numa\\n',\n",
       " 'aaa_pete\\n',\n",
       " 'aaa_r\\n',\n",
       " 'aaa_sports\\n',\n",
       " 'aaa_stow_a_way\\n',\n",
       " 'aaa_stripe_pro\\n',\n",
       " 'aaa_travel\\n',\n",
       " 'aaa_tul\\n',\n",
       " 'aaa_tweets\\n',\n",
       " 'aaa_ucberkeley\\n',\n",
       " 'aaa_uchi\\n',\n",
       " 'aaaa00000\\n',\n",
       " 'aaaa0813\\n',\n",
       " 'aaaa10181527\\n',\n",
       " 'aaaa1111\\n',\n",
       " 'aaaa1147\\n',\n",
       " 'aaaa1972\\n',\n",
       " 'aaaa200\\n',\n",
       " 'aaaa39\\n',\n",
       " 'aaaa4321aaaa\\n',\n",
       " 'aaaa484871\\n',\n",
       " 'aaaa551155\\n',\n",
       " 'aaaa80\\n',\n",
       " 'aaaa875\\n',\n",
       " 'aaaa_drian\\n',\n",
       " 'aaaa_f\\n',\n",
       " 'aaaa_la\\n',\n",
       " 'aaaa_line\\n',\n",
       " 'aaaa_love_aaaa\\n',\n",
       " 'aaaa_moose\\n',\n",
       " 'aaaaa\\n',\n",
       " 'aaaaa007\\n',\n",
       " 'aaaaa1192mm\\n',\n",
       " 'aaaaa1226\\n',\n",
       " 'aaaaa125\\n',\n",
       " 'aaaaa2008\\n',\n",
       " 'aaaaa20mac\\n',\n",
       " 'aaaaa5253\\n',\n",
       " 'aaaaa6\\n',\n",
       " 'aaaaa927\\n',\n",
       " 'aaaaa_drian\\n',\n",
       " 'aaaaa_sa\\n',\n",
       " 'aaaaaa666\\n',\n",
       " 'aaaaaa_aaaaaa96\\n',\n",
       " 'aaaaaaa22222222\\n',\n",
       " 'aaaaaaa_\\n',\n",
       " 'aaaaaaa_drian\\n',\n",
       " 'aaaaaaaaaa8198\\n',\n",
       " 'aaaaaaaaaaaa_\\n',\n",
       " 'aaaaaaaaaaaaa66\\n',\n",
       " 'aaaaaaaaaaaaaah\\n',\n",
       " 'aaaaaaaaaaaaaan\\n',\n",
       " 'aaaaaaaaaaaaagh\\n',\n",
       " 'aaaaaaaaaaaaaki\\n',\n",
       " 'aaaaaaaaaaaamy\\n',\n",
       " 'aaaaaaaaaaalice\\n',\n",
       " 'aaaaaaaaaaamber\\n',\n",
       " 'aaaaaaaaaaaron\\n',\n",
       " 'aaaaaaaaaaarrgh\\n',\n",
       " 'aaaaaaaaaaash\\n',\n",
       " 'aaaaaaaaaab\\n',\n",
       " 'aaaaaaaaaabby\\n',\n",
       " 'aaaaaaaaaadasds\\n',\n",
       " 'aaaaaaaaaah\\n',\n",
       " 'aaaaaaaaaaj\\n',\n",
       " 'aaaaaaaaaalex\\n',\n",
       " 'aaaaaaaaaamanda\\n',\n",
       " 'aaaaaaaaaamy\\n',\n",
       " 'aaaaaaaaaanabre\\n',\n",
       " 'aaaaaaaaaandrew\\n',\n",
       " 'aaaaaaaaaannie\\n',\n",
       " 'aaaaaaaaaaron\\n',\n",
       " 'aaaaaaaaaashley\\n',\n",
       " 'aaaaaaaaaato\\n',\n",
       " 'aaaaaaaaaayen\\n',\n",
       " 'aaaaaaaaaazra\\n',\n",
       " 'aaaaaaaaagha\\n',\n",
       " 'aaaaaaaaahh\\n',\n",
       " 'aaaaaaaaahhhh\\n',\n",
       " 'aaaaaaaaamy\\n',\n",
       " 'aaaaaaaaassenav\\n',\n",
       " 'aaaaaaaachan\\n',\n",
       " 'aaaaaaaah\\n',\n",
       " 'aaaaaaaaki\\n',\n",
       " 'aaaaaaaaluriane\\n',\n",
       " 'aaaaaaaamanda\\n',\n",
       " 'aaaaaaaambition\\n',\n",
       " 'aaaaaaaang\\n',\n",
       " 'aaaaaaaangie\\n',\n",
       " 'aaaaaaaannt\\n',\n",
       " 'aaaaaaaaron\\n',\n",
       " 'aaaaaaaaronh\\n',\n",
       " 'aaaaaaaasd\\n',\n",
       " 'aaaaaaaash\\n',\n",
       " 'aaaaaaaazzzzzz0\\n',\n",
       " 'aaaaaaabbbbbbyy\\n',\n",
       " 'aaaaaaahhh\\n',\n",
       " 'aaaaaaahhhh\\n',\n",
       " 'aaaaaaahhhhhh\\n',\n",
       " 'aaaaaaahhhhhhh\\n',\n",
       " 'aaaaaaaidan\\n',\n",
       " 'aaaaaaamanda\\n',\n",
       " 'aaaaaaammmmiiii\\n',\n",
       " 'aaaaaaamy\\n',\n",
       " 'aaaaaaamyxo\\n',\n",
       " 'aaaaaaan\\n',\n",
       " 'aaaaaaandre\\n',\n",
       " 'aaaaaaanna\\n',\n",
       " 'aaaaaaannie\\n',\n",
       " 'aaaaaaaoko\\n',\n",
       " 'aaaaaaarenee7\\n',\n",
       " 'aaaaaaarghh\\n',\n",
       " 'aaaaaaari\\n',\n",
       " 'aaaaaaaronh\\n',\n",
       " 'aaaaaaash\\n',\n",
       " 'aaaaaaayaaaaaaa\\n',\n",
       " 'aaaaaaayu\\n',\n",
       " 'aaaaaabby\\n',\n",
       " 'aaaaaabiix\\n',\n",
       " 'aaaaaadaaaaaaab\\n',\n",
       " 'aaaaaago\\n',\n",
       " 'aaaaaahhh\\n',\n",
       " 'aaaaaahhhh\\n',\n",
       " 'aaaaaakash\\n',\n",
       " 'aaaaaaki\\n',\n",
       " 'aaaaaako\\n',\n",
       " 'aaaaaal\\n',\n",
       " 'aaaaaalice\\n',\n",
       " 'aaaaaanaa\\n',\n",
       " 'aaaaaandy\\n',\n",
       " 'aaaaaane\\n',\n",
       " 'aaaaaanja\\n',\n",
       " 'aaaaaanna\\n',\n",
       " 'aaaaaanouk\\n',\n",
       " 'aaaaaanthony\\n',\n",
       " 'aaaaaarrgg\\n',\n",
       " 'aaaaaash\\n',\n",
       " 'aaaaaasunnnnnaa\\n',\n",
       " 'aaaaaawsome\\n',\n",
       " 'aaaaabbey\\n',\n",
       " 'aaaaabby\\n',\n",
       " 'aaaaabc00\\n',\n",
       " 'aaaaaber\\n',\n",
       " 'aaaaabigail\\n',\n",
       " 'aaaaabreu\\n',\n",
       " 'aaaaace\\n',\n",
       " 'aaaaachaning\\n',\n",
       " 'aaaaaco\\n',\n",
       " 'aaaaaddy\\n',\n",
       " 'aaaaadeline\\n',\n",
       " 'aaaaadri\\n',\n",
       " 'aaaaagnes\\n',\n",
       " 'aaaaagustina\\n',\n",
       " 'aaaaah1\\n',\n",
       " 'aaaaahhhhshark\\n',\n",
       " 'aaaaahrunaway\\n',\n",
       " 'aaaaahy\\n',\n",
       " 'aaaaaiiiiieeeee\\n',\n",
       " 'aaaaaim\\n',\n",
       " 'aaaaaimee\\n',\n",
       " 'aaaaaki07\\n',\n",
       " 'aaaaako\\n',\n",
       " 'aaaaakoro\\n',\n",
       " 'aaaaakubi\\n',\n",
       " 'aaaaalbert\\n',\n",
       " 'aaaaale\\n',\n",
       " 'aaaaalena\\n',\n",
       " 'aaaaalexandra\\n',\n",
       " 'aaaaalexandria\\n',\n",
       " 'aaaaalief\\n',\n",
       " 'aaaaaline\\n',\n",
       " 'aaaaalison\\n',\n",
       " 'aaaaaliyah\\n',\n",
       " 'aaaaall\\n',\n",
       " 'aaaaalllllleeee\\n',\n",
       " 'aaaaaluv\\n',\n",
       " 'aaaaaly\\n',\n",
       " 'aaaaalyssa\\n',\n",
       " 'aaaaam0\\n',\n",
       " 'aaaaamad\\n',\n",
       " 'aaaaamieeeee\\n',\n",
       " 'aaaaamil\\n',\n",
       " 'aaaaammmmmmmyyy\\n',\n",
       " 'aaaaammmmmyyyyy\\n',\n",
       " 'aaaaana_\\n',\n",
       " 'aaaaanalaura\\n',\n",
       " 'aaaaanalmeidaa\\n',\n",
       " 'aaaaanand\\n',\n",
       " 'aaaaandddd\\n',\n",
       " 'aaaaandi\\n',\n",
       " 'aaaaandrizzul\\n',\n",
       " 'aaaaane\\n',\n",
       " 'aaaaanisa\\n',\n",
       " 'aaaaanko\\n',\n",
       " 'aaaaanna\\n',\n",
       " 'aaaaanne\\n',\n",
       " 'aaaaannet\\n',\n",
       " 'aaaaannia\\n',\n",
       " 'aaaaanti\\n',\n",
       " 'aaaaanty\\n',\n",
       " 'aaaaao\\n',\n",
       " 'aaaaaoz\\n',\n",
       " 'aaaaap\\n',\n",
       " 'aaaaapril\\n',\n",
       " 'aaaaaps09\\n',\n",
       " 'aaaaaqqqqq\\n',\n",
       " 'aaaaar\\n',\n",
       " 'aaaaareumdle\\n',\n",
       " 'aaaaarghhhh\\n',\n",
       " 'aaaaaron\\n',\n",
       " 'aaaaarong\\n',\n",
       " 'aaaaasaki\\n',\n",
       " 'aaaaashhheoo\\n',\n",
       " 'aaaaashley\\n',\n",
       " 'aaaaashley1987\\n',\n",
       " 'aaaaask\\n',\n",
       " 'aaaaaska\\n',\n",
       " 'aaaaastm\\n',\n",
       " 'aaaaatm\\n',\n",
       " 'aaaaaubreyyyyy\\n',\n",
       " 'aaaaav\\n',\n",
       " 'aaaaawoo\\n',\n",
       " 'aaaaawwww\\n',\n",
       " 'aaaaaya602\\n',\n",
       " 'aaaaayburke\\n',\n",
       " 'aaaaaye\\n',\n",
       " 'aaaaayo\\n',\n",
       " 'aaaaayy1\\n',\n",
       " 'aaaaazhou\\n',\n",
       " 'aaaabbbbbiiii\\n',\n",
       " 'aaaabbbbyyyy_\\n',\n",
       " 'aaaabby_lmao\\n',\n",
       " 'aaaabbyyyy\\n',\n",
       " 'aaaabe\\n',\n",
       " 'aaaac\\n',\n",
       " 'aaaacccu\\n',\n",
       " 'aaaace\\n',\n",
       " 'aaaachan\\n',\n",
       " 'aaaachan2009\\n',\n",
       " 'aaaachussoo\\n',\n",
       " 'aaaacme\\n',\n",
       " 'aaaadddaam\\n',\n",
       " 'aaaaddreeeessss\\n',\n",
       " 'aaaadho\\n',\n",
       " 'aaaadilkhan\\n',\n",
       " 'aaaadindaputri\\n',\n",
       " 'aaaadrian\\n',\n",
       " 'aaaadriann\\n',\n",
       " 'aaaadriannnnnn\\n',\n",
       " 'aaaaem\\n',\n",
       " 'aaaafi\\n',\n",
       " 'aaaafke\\n',\n",
       " 'aaaagatha\\n',\n",
       " 'aaaagcelaaaa\\n',\n",
       " 'aaaaggna\\n',\n",
       " 'aaaagirl_l\\n',\n",
       " 'aaaagoodauction\\n',\n",
       " 'aaaagosb\\n',\n",
       " 'aaaah_kmg\\n',\n",
       " 'aaaahanni\\n',\n",
       " 'aaaahhh4445\\n',\n",
       " 'aaaahhhhhhhhhhh\\n',\n",
       " 'aaaahhleii\\n',\n",
       " 'aaaahlana\\n',\n",
       " 'aaaahlex\\n',\n",
       " 'aaaahn\\n',\n",
       " 'aaaahndy\\n',\n",
       " 'aaaahrrrrr\\n',\n",
       " 'aaaaicit2\\n',\n",
       " 'aaaaid\\n',\n",
       " 'aaaaignacio\\n',\n",
       " 'aaaaii\\n',\n",
       " 'aaaaiiii\\n',\n",
       " 'aaaaiiiieeee\\n',\n",
       " 'aaaaimage\\n',\n",
       " 'aaaaimi\\n',\n",
       " 'aaaaio\\n',\n",
       " 'aaaairi\\n',\n",
       " 'aaaairy\\n',\n",
       " 'aaaaistheebest\\n',\n",
       " 'aaaaj\\n',\n",
       " 'aaaajjjj1111\\n',\n",
       " 'aaaakaty\\n',\n",
       " 'aaaaki\\n',\n",
       " 'aaaakr\\n',\n",
       " 'aaaal3x\\n',\n",
       " 'aaaalbert\\n',\n",
       " 'aaaaldii\\n',\n",
       " 'aaaale\\n',\n",
       " 'aaaalec\\n',\n",
       " 'aaaalexaaaa\\n',\n",
       " 'aaaalexis\\n',\n",
       " 'aaaalexisg\\n',\n",
       " 'aaaalexiss\\n',\n",
       " 'aaaali\\n',\n",
       " 'aaaali_\\n',\n",
       " 'aaaali_mileyy\\n',\n",
       " 'aaaalicia5\\n',\n",
       " 'aaaalii\\n',\n",
       " 'aaaaliiii\\n',\n",
       " 'aaaalison\\n',\n",
       " 'aaaaliyahx\\n',\n",
       " 'aaaall\\n',\n",
       " 'aaaalliver\\n',\n",
       " 'aaaalllleeeexxx\\n',\n",
       " 'aaaallstars\\n',\n",
       " 'aaaallyyy\\n',\n",
       " 'aaaalok\\n',\n",
       " 'aaaalveeees\\n',\n",
       " 'aaaalves\\n',\n",
       " 'aaaalx\\n',\n",
       " 'aaaaly\\n',\n",
       " 'aaaalyssa\\n',\n",
       " 'aaaalyssssssa\\n',\n",
       " 'aaaam\\n',\n",
       " 'aaaamanda\\n',\n",
       " 'aaaamandaaaa\\n',\n",
       " 'aaaamber\\n',\n",
       " 'aaaamberrr\\n',\n",
       " 'aaaambular\\n',\n",
       " 'aaaamelia\\n',\n",
       " 'aaaamelita\\n',\n",
       " 'aaaamena\\n',\n",
       " 'aaaamhim\\n',\n",
       " 'aaaami\\n',\n",
       " 'aaaamie\\n',\n",
       " 'aaaamiee\\n',\n",
       " 'aaaamir\\n',\n",
       " 'aaaammaanddaa\\n',\n",
       " 'aaaammberr\\n',\n",
       " 'aaaammmbbeerr\\n',\n",
       " 'aaaamna\\n',\n",
       " 'aaaamo\\n',\n",
       " 'aaaamy\\n',\n",
       " 'aaaamygirl\\n',\n",
       " 'aaaamyle\\n',\n",
       " 'aaaamylife\\n',\n",
       " 'aaaamyxox\\n',\n",
       " 'aaaana\\n',\n",
       " 'aaaanag\\n',\n",
       " 'aaaanaluiza\\n',\n",
       " 'aaaandavies\\n',\n",
       " 'aaaanderson\\n',\n",
       " 'aaaandi\\n',\n",
       " 'aaaandie\\n',\n",
       " 'aaaandreaa\\n',\n",
       " 'aaaandreaaaa\\n',\n",
       " 'aaaandreww\\n',\n",
       " 'aaaandrewxd\\n',\n",
       " 'aaaandru\\n',\n",
       " 'aaaandry_\\n',\n",
       " 'aaaane\\n',\n",
       " 'aaaanggi\\n',\n",
       " 'aaaangieeee\\n',\n",
       " 'aaaanie\\n',\n",
       " 'aaaanime\\n',\n",
       " 'aaaanin\\n',\n",
       " 'aaaaninha\\n',\n",
       " 'aaaanja\\n',\n",
       " 'aaaann\\n',\n",
       " 'aaaannee\\n',\n",
       " 'aaaanni\\n',\n",
       " 'aaaanniiie21\\n',\n",
       " 'aaaannleon\\n',\n",
       " 'aaaannndiii\\n',\n",
       " 'aaaannniiieee\\n',\n",
       " 'aaaannnnaaaaaaa\\n',\n",
       " 'aaaannnnddreaaa\\n',\n",
       " 'aaaannnnneeee\\n',\n",
       " 'aaaannnnnnaaaa\\n',\n",
       " 'aaaanouk\\n',\n",
       " 'aaaanthony\\n',\n",
       " 'aaaantiques\\n',\n",
       " 'aaaantonia\\n',\n",
       " 'aaaantti\\n',\n",
       " 'aaaanup\\n',\n",
       " 'aaaaooai\\n',\n",
       " 'aaaaoshin\\n',\n",
       " 'aaaapapai\\n',\n",
       " 'aaaapp\\n',\n",
       " 'aaaapppeeeeee\\n',\n",
       " 'aaaapriil\\n',\n",
       " 'aaaaprilbaaby\\n',\n",
       " 'aaaaprill\\n',\n",
       " 'aaaaqooq\\n',\n",
       " 'aaaaqrizzitano\\n',\n",
       " 'aaaardvark\\n',\n",
       " 'aaaaren\\n',\n",
       " 'aaaarg\\n',\n",
       " 'aaaariane\\n',\n",
       " 'aaaariane_q\\n',\n",
       " 'aaaarick\\n',\n",
       " 'aaaarih\\n',\n",
       " 'aaaarmastina\\n',\n",
       " 'aaaaron\\n',\n",
       " 'aaaaronch\\n',\n",
       " 'aaaaroncl\\n',\n",
       " 'aaaaronnnn\\n',\n",
       " 'aaaaroon\\n',\n",
       " 'aaaarray\\n',\n",
       " 'aaaarreola\\n',\n",
       " 'aaaarroonnscott\\n',\n",
       " 'aaaarunouu\\n',\n",
       " 'aaaary\\n',\n",
       " 'aaaarya\\n',\n",
       " 'aaaasako\\n',\n",
       " 'aaaaselfstorage\\n',\n",
       " 'aaaasharia\\n',\n",
       " 'aaaashe\\n',\n",
       " 'aaaasherman\\n',\n",
       " 'aaaashlee\\n',\n",
       " 'aaaashleeey\\n',\n",
       " 'aaaashleigh\\n',\n",
       " 'aaaashleighhhh\\n',\n",
       " 'aaaashley\\n',\n",
       " 'aaaashleyx\\n',\n",
       " 'aaaashleyyyy\\n',\n",
       " 'aaaashx3\\n',\n",
       " 'aaaasnews\\n',\n",
       " 'aaaassshh\\n',\n",
       " 'aaaassshhh\\n',\n",
       " 'aaaassss3\\n',\n",
       " 'aaaassssaaaasss\\n',\n",
       " 'aaaasssshhhh\\n',\n",
       " 'aaaasyaaa\\n',\n",
       " 'aaaateva\\n',\n",
       " 'aaaathina\\n',\n",
       " 'aaaatrain\\n',\n",
       " 'aaaatri\\n',\n",
       " 'aaaatsuko\\n',\n",
       " 'aaaatv\\n',\n",
       " 'aaaatx\\n',\n",
       " 'aaaaua\\n',\n",
       " 'aaaaustin\\n',\n",
       " 'aaaauto\\n',\n",
       " 'aaaauto_tel\\n',\n",
       " 'aaaautows\\n',\n",
       " 'aaaauuuiii\\n',\n",
       " 'aaaavasquez\\n',\n",
       " 'aaaaveep\\n',\n",
       " 'aaaavsar\\n',\n",
       " 'aaaaw1\\n',\n",
       " 'aaaawesome\\n',\n",
       " 'aaaawesomee\\n',\n",
       " 'aaaawulaizzzz2\\n',\n",
       " 'aaaax4\\n',\n",
       " 'aaaaxial\\n',\n",
       " 'aaaayarmandito\\n',\n",
       " 'aaaaydih\\n',\n",
       " 'aaaayeah\\n',\n",
       " 'aaaayovee\\n',\n",
       " 'aaaayy\\n',\n",
       " 'aaaayyyeee\\n',\n",
       " 'aaaayyyyuuuu\\n',\n",
       " 'aaab17s\\n',\n",
       " 'aaabaatteries\\n',\n",
       " 'aaababygirl\\n',\n",
       " 'aaabackstage\\n',\n",
       " 'aaabassett\\n',\n",
       " 'aaabatt\\n',\n",
       " 'aaabatteries\\n',\n",
       " 'aaabattleroyale\\n',\n",
       " 'aaabautista\\n',\n",
       " 'aaabbasi\\n',\n",
       " 'aaabbb126\\n',\n",
       " 'aaabbb144\\n',\n",
       " 'aaabbb_200909\\n',\n",
       " 'aaabbbaaawww\\n',\n",
       " 'aaabbbbbbiiieee\\n',\n",
       " 'aaabbbccc\\n',\n",
       " 'aaabbbccc15\\n',\n",
       " 'aaabbbcccddd123\\n',\n",
       " 'aaabbbcccdddee\\n',\n",
       " 'aaabbbeee\\n',\n",
       " 'aaabbbey\\n',\n",
       " 'aaabbbie\\n',\n",
       " 'aaabbbiiiiii\\n',\n",
       " 'aaabbbyyy\\n',\n",
       " 'aaabbbyyycp\\n',\n",
       " 'aaabbbyyyyyy\\n',\n",
       " 'aaabbeee\\n',\n",
       " 'aaabbey\\n',\n",
       " 'aaabbeyls\\n',\n",
       " 'aaabbiiii\\n',\n",
       " 'aaabbiiiy\\n',\n",
       " 'aaabbyyyyy\\n',\n",
       " 'aaabcdef190\\n',\n",
       " 'aaabdiel101\\n',\n",
       " 'aaabeal\\n',\n",
       " 'aaabeeseedee\\n',\n",
       " 'aaabeezy\\n',\n",
       " 'aaabeid\\n',\n",
       " 'aaabernathy\\n',\n",
       " 'aaabhalla\\n',\n",
       " 'aaabhimanu\\n',\n",
       " 'aaabhinav\\n',\n",
       " 'aaabhishekahuja\\n',\n",
       " 'aaabi\\n',\n",
       " 'aaabiche\\n',\n",
       " 'aaabieism\\n',\n",
       " 'aaabigailmarie\\n',\n",
       " 'aaabing\\n',\n",
       " 'aaabir\\n',\n",
       " 'aaabirdeyedotcm\\n',\n",
       " 'aaabizctr\\n',\n",
       " 'aaabiznet\\n',\n",
       " 'aaablack\\n',\n",
       " 'aaabluejackets\\n',\n",
       " 'aaablueyes8\\n',\n",
       " 'aaabney\\n',\n",
       " 'aaabokid\\n',\n",
       " 'aaabonix\\n',\n",
       " 'aaaboooo\\n',\n",
       " 'aaaboss\\n',\n",
       " 'aaabow\\n',\n",
       " 'aaabreeu\\n',\n",
       " 'aaabril\\n',\n",
       " 'aaabu\\n',\n",
       " 'aaabubakar\\n',\n",
       " 'aaabyyy\\n',\n",
       " 'aaac555\\n',\n",
       " 'aaacabral\\n',\n",
       " 'aaacaf\\n',\n",
       " 'aaacaic\\n',\n",
       " 'aaacalifornia\\n',\n",
       " 'aaacamacho684\\n',\n",
       " 'aaacao\\n',\n",
       " 'aaacaporg\\n',\n",
       " 'aaacarolinas\\n',\n",
       " 'aaacashflow\\n',\n",
       " 'aaacashflows\\n',\n",
       " 'aaacbc\\n',\n",
       " 'aaaccharlotte\\n',\n",
       " 'aaacchhsan\\n',\n",
       " 'aaaccounting\\n',\n",
       " 'aaaceedoubley0u\\n',\n",
       " 'aaacephus\\n',\n",
       " 'aaacerezo\\n',\n",
       " 'aaaceshighaa\\n',\n",
       " 'aaacf\\n',\n",
       " 'aaacha\\n',\n",
       " 'aaachan426\\n',\n",
       " 'aaacig\\n',\n",
       " 'aaaclassicsport\\n',\n",
       " 'aaacmp\\n',\n",
       " 'aaacoaches\\n',\n",
       " 'aaacolumbia\\n',\n",
       " 'aaacom\\n',\n",
       " 'aaacommons\\n',\n",
       " 'aaaconk\\n',\n",
       " 'aaaconsulting\\n',\n",
       " 'aaacooling\\n',\n",
       " 'aaacosta\\n',\n",
       " 'aaacrichmond\\n',\n",
       " 'aaacsw\\n',\n",
       " 'aaaction\\n',\n",
       " 'aaacton23\\n',\n",
       " 'aaactor\\n',\n",
       " 'aaacud\\n',\n",
       " 'aaacuy5xxx\\n',\n",
       " 'aaad2123\\n',\n",
       " 'aaad_ufpr\\n',\n",
       " 'aaadaaaammm\\n',\n",
       " 'aaadah\\n',\n",
       " 'aaadaly\\n',\n",
       " 'aaadam\\n',\n",
       " 'aaadam__x\\n',\n",
       " 'aaadamaa\\n',\n",
       " 'aaadamdowww\\n',\n",
       " 'aaadams\\n',\n",
       " 'aaadanni\\n',\n",
       " 'aaadarkvampire\\n',\n",
       " 'aaadatsuryo3\\n',\n",
       " 'aaadave\\n',\n",
       " 'aaadays\\n',\n",
       " 'aaaddam\\n',\n",
       " 'aaaddddaaaammmm\\n',\n",
       " 'aaaddff\\n',\n",
       " 'aaaddieee\\n',\n",
       " 'aaaddyyy\\n',\n",
       " 'aaade\\n',\n",
       " 'aaadeee\\n',\n",
       " 'aaadeeeleee\\n',\n",
       " 'aaadeflooding\\n',\n",
       " 'aaadele\\n',\n",
       " 'aaadeliaa\\n',\n",
       " 'aaadelvand\\n',\n",
       " 'aaadesigns\\n',\n",
       " 'aaadf\\n',\n",
       " 'aaadhil\\n',\n",
       " 'aaadhisty\\n',\n",
       " 'aaadhiwl\\n',\n",
       " 'aaadien\\n',\n",
       " 'aaadiet\\n',\n",
       " 'aaadii\\n',\n",
       " 'aaadiii\\n',\n",
       " 'aaadiiit\\n',\n",
       " 'aaadiittttiiiii\\n',\n",
       " 'aaadil2\\n',\n",
       " 'aaadireitoufmg\\n',\n",
       " 'aaadis\\n',\n",
       " 'aaadiscounts\\n',\n",
       " 'aaadiscoveries\\n',\n",
       " 'aaadith\\n',\n",
       " 'aaaditok\\n',\n",
       " 'aaaditz\\n',\n",
       " 'aaadizzle\\n',\n",
       " 'aaadk\\n',\n",
       " 'aaadland\\n',\n",
       " 'aaadlina\\n',\n",
       " 'aaadmn23\\n',\n",
       " 'aaadnanref\\n',\n",
       " 'aaadnetworks\\n',\n",
       " 'aaadnicajjj\\n',\n",
       " 'aaadonai\\n',\n",
       " 'aaadreana\\n',\n",
       " 'aaadriaaan\\n',\n",
       " 'aaadriann\\n',\n",
       " 'aaadrianna\\n',\n",
       " 'aaadrianne\\n',\n",
       " 'aaadriansaninja\\n',\n",
       " 'aaadrien\\n',\n",
       " 'aaadrienne\\n',\n",
       " 'aaadrimama\\n',\n",
       " 'aaadrisss\\n',\n",
       " 'aaadsnet\\n',\n",
       " 'aaadubs\\n',\n",
       " 'aaaduh\\n',\n",
       " 'aaadv1968\\n',\n",
       " 'aaadvd\\n',\n",
       " 'aaadvenhomesch\\n',\n",
       " 'aaadvik\\n',\n",
       " 'aaady\\n',\n",
       " 'aaadze\\n',\n",
       " 'aaae79\\n',\n",
       " 'aaaealert\\n',\n",
       " 'aaaeannualcon\\n',\n",
       " 'aaaear\\n',\n",
       " 'aaaebay\\n',\n",
       " 'aaaed\\n',\n",
       " 'aaaefron\\n',\n",
       " 'aaaeiaa\\n',\n",
       " 'aaaelectra99\\n',\n",
       " 'aaaeleen\\n',\n",
       " 'aaaemjhay\\n',\n",
       " 'aaaemployment\\n',\n",
       " 'aaaengineering\\n',\n",
       " 'aaaent\\n',\n",
       " 'aaaerdna\\n',\n",
       " 'aaaeryn\\n',\n",
       " 'aaaesct\\n',\n",
       " 'aaaesean\\n',\n",
       " 'aaaet_travel\\n',\n",
       " 'aaaeugeniogudin\\n',\n",
       " 'aaaevelyn\\n',\n",
       " 'aaafann\\n',\n",
       " 'aaafcp\\n',\n",
       " 'aaafeg\\n',\n",
       " 'aaaff\\n',\n",
       " 'aaafi\\n',\n",
       " 'aaafiif\\n',\n",
       " 'aaafiif02\\n',\n",
       " 'aaafiifghani\\n',\n",
       " 'aaafje\\n',\n",
       " 'aaafloodandfire\\n',\n",
       " 'aaafloodfirebio\\n',\n",
       " 'aaafmk\\n',\n",
       " 'aaaforlife\\n',\n",
       " 'aaafreespirit\\n',\n",
       " 'aaafrid1\\n',\n",
       " 'aaafriend\\n',\n",
       " 'aaafrog\\n',\n",
       " 'aaagaming\\n',\n",
       " 'aaagang\\n',\n",
       " 'aaagape\\n',\n",
       " 'aaagbi\\n',\n",
       " 'aaagdr\\n',\n",
       " 'aaageebee\\n',\n",
       " 'aaagendazs\\n',\n",
       " 'aaagfoook\\n',\n",
       " 'aaagggiii\\n',\n",
       " 'aaagghhh\\n',\n",
       " 'aaaggrrhhh\\n',\n",
       " 'aaaghcabbage\\n',\n",
       " 'aaaghh\\n',\n",
       " 'aaagi\\n',\n",
       " 'aaagifts\\n',\n",
       " 'aaagk\\n',\n",
       " 'aaagm2005\\n',\n",
       " 'aaagmed\\n',\n",
       " 'aaagn\\n',\n",
       " 'aaagner\\n',\n",
       " 'aaagoe\\n',\n",
       " 'aaagokhandogan\\n',\n",
       " 'aaagood\\n',\n",
       " 'aaagos\\n',\n",
       " 'aaagreens\\n',\n",
       " 'aaagren\\n',\n",
       " 'aaagui\\n',\n",
       " 'aaagus\\n',\n",
       " 'aaagusss\\n',\n",
       " 'aaagustina\\n',\n",
       " 'aaagy\\n',\n",
       " 'aaah1997\\n',\n",
       " 'aaah65\\n',\n",
       " 'aaah_65\\n',\n",
       " 'aaah_bags\\n',\n",
       " 'aaah_velha\\n',\n",
       " 'aaahaa\\n',\n",
       " 'aaahahahaha\\n',\n",
       " 'aaahamanda\\n',\n",
       " 'aaahannahaaa\\n',\n",
       " 'aaahappyguy\\n',\n",
       " 'aaahawk\\n',\n",
       " 'aaahbayyy\\n',\n",
       " 'aaahcastillo\\n',\n",
       " 'aaahdi\\n',\n",
       " 'aaahem\\n',\n",
       " 'aaahertz\\n',\n",
       " 'aaahey\\n',\n",
       " 'aaahh_records\\n',\n",
       " 'aaahhgenuh\\n',\n",
       " 'aaahhh_\\n',\n",
       " 'aaahhhhhh\\n',\n",
       " 'aaahhhitscaity\\n',\n",
       " 'aaahhhkkk\\n',\n",
       " 'aaahhhrachel\\n',\n",
       " 'aaahhhsega\\n',\n",
       " 'aaahhhz\\n',\n",
       " 'aaahhreal_amber\\n',\n",
       " 'aaahiq\\n',\n",
       " 'aaahis\\n',\n",
       " 'aaahl\\n',\n",
       " 'aaahlexisss\\n',\n",
       " 'aaahlisha\\n',\n",
       " 'aaahmanda\\n',\n",
       " 'aaahmazed\\n',\n",
       " 'aaahmeeet\\n',\n",
       " 'aaahndrea\\n',\n",
       " 'aaahomerescuers\\n',\n",
       " 'aaahomesolution\\n',\n",
       " 'aaahoneykoh\\n',\n",
       " 'aaahooo\\n',\n",
       " 'aaahq\\n',\n",
       " 'aaahrealstalker\\n',\n",
       " 'aaahriana\\n',\n",
       " ...]"
      ]
     },
     "execution_count": 75,
     "metadata": {},
     "output_type": "execute_result"
    }
   ],
   "source": [
    "lines"
   ]
  },
  {
   "cell_type": "markdown",
   "metadata": {},
   "source": [
    "## And the sorted.."
   ]
  },
  {
   "cell_type": "code",
   "execution_count": 12,
   "metadata": {},
   "outputs": [],
   "source": [
    "import gzip"
   ]
  },
  {
   "cell_type": "code",
   "execution_count": 13,
   "metadata": {},
   "outputs": [],
   "source": [
    "sorted_t7u_fapath = '/home/shaypalachy/Dropbox/data/twikwak17/phase_1_output/twitter7_user_list_sorted.txt.gz'"
   ]
  },
  {
   "cell_type": "code",
   "execution_count": 14,
   "metadata": {},
   "outputs": [],
   "source": [
    "sorted_t7u = gzip.open(sorted_t7u_fapath, 'rt')"
   ]
  },
  {
   "cell_type": "code",
   "execution_count": 15,
   "metadata": {},
   "outputs": [],
   "source": [
    "lines = []\n",
    "for i in range(10):\n",
    "    lines.append(sorted_t7u.readline())"
   ]
  },
  {
   "cell_type": "code",
   "execution_count": 16,
   "metadata": {},
   "outputs": [
    {
     "data": {
      "text/plain": [
       "['\\n',\n",
       " ' bdogg\\n',\n",
       " ' diamond\\n',\n",
       " '0\\n',\n",
       " '00000\\n',\n",
       " '00000000\\n',\n",
       " '000000000000038\\n',\n",
       " '000000000000111\\n',\n",
       " '000000000101010\\n',\n",
       " '000000000wesley\\n']"
      ]
     },
     "execution_count": 16,
     "metadata": {},
     "output_type": "execute_result"
    }
   ],
   "source": [
    "lines"
   ]
  },
  {
   "cell_type": "code",
   "execution_count": 17,
   "metadata": {},
   "outputs": [],
   "source": [
    "sorted_t7u = gzip.open(sorted_t7u_fapath, 'rt')"
   ]
  },
  {
   "cell_type": "code",
   "execution_count": 18,
   "metadata": {},
   "outputs": [],
   "source": [
    "t7u_count = 0\n",
    "for line in sorted_t7u:\n",
    "    t7u_count +=1"
   ]
  },
  {
   "cell_type": "code",
   "execution_count": 24,
   "metadata": {},
   "outputs": [
    {
     "data": {
      "text/plain": [
       "'17,069,977'"
      ]
     },
     "execution_count": 24,
     "metadata": {},
     "output_type": "execute_result"
    }
   ],
   "source": [
    "f\"{t7u_count:,}\""
   ]
  },
  {
   "cell_type": "code",
   "execution_count": 20,
   "metadata": {},
   "outputs": [],
   "source": [
    "t7_tweets_fapath = '/home/shaypalachy/Dropbox/data/twikwak17/phase_1_output/twitter7_tweet_list.txt.gz'"
   ]
  },
  {
   "cell_type": "code",
   "execution_count": 21,
   "metadata": {},
   "outputs": [],
   "source": [
    "t7_tweets_f = gzip.open(t7_tweets_fapath, 'rt')"
   ]
  },
  {
   "cell_type": "code",
   "execution_count": 22,
   "metadata": {},
   "outputs": [],
   "source": [
    "t7_tweet_count = 0\n",
    "for line in t7_tweets_f:\n",
    "    t7_tweet_count +=1"
   ]
  },
  {
   "cell_type": "code",
   "execution_count": 25,
   "metadata": {},
   "outputs": [
    {
     "data": {
      "text/plain": [
       "'17,069,974'"
      ]
     },
     "execution_count": 25,
     "metadata": {},
     "output_type": "execute_result"
    }
   ],
   "source": [
    "f\"{t7_tweet_count:,}\""
   ]
  },
  {
   "cell_type": "markdown",
   "metadata": {},
   "source": [
    "# kwak users"
   ]
  },
  {
   "cell_type": "code",
   "execution_count": 26,
   "metadata": {},
   "outputs": [],
   "source": [
    "# kwaku_fpath = '/home/shaypalachy/Dropbox/data/twikwak17/phase_2_output/kwak10_unames.txt.gz'\n",
    "kwaku_fpath = '/home/shaypalachy/Dropbox/data/twikwak17/phase_2_output/kwak10_unames_sorted.txt.gz'"
   ]
  },
  {
   "cell_type": "code",
   "execution_count": 27,
   "metadata": {},
   "outputs": [],
   "source": [
    "kwu = gzip.open(kwaku_fpath, 'rt')"
   ]
  },
  {
   "cell_type": "code",
   "execution_count": 30,
   "metadata": {},
   "outputs": [],
   "source": [
    "kwu = gzip.open(kwaku_fpath, 'rt')\n",
    "kw_user_count = 0\n",
    "for line in kwu:\n",
    "    kw_user_count += 1"
   ]
  },
  {
   "cell_type": "code",
   "execution_count": 32,
   "metadata": {},
   "outputs": [
    {
     "data": {
      "text/plain": [
       "'34,897,763'"
      ]
     },
     "execution_count": 32,
     "metadata": {},
     "output_type": "execute_result"
    }
   ],
   "source": [
    "f\"{kw_user_count:,}\""
   ]
  },
  {
   "cell_type": "code",
   "execution_count": 28,
   "metadata": {},
   "outputs": [],
   "source": [
    "lines = []\n",
    "for i in range(20):\n",
    "    lines.append(kwu.readline())"
   ]
  },
  {
   "cell_type": "code",
   "execution_count": 29,
   "metadata": {},
   "outputs": [
    {
     "data": {
      "text/plain": [
       "['!help1\\n',\n",
       " '*andy*1\\n',\n",
       " '*originaldk*1\\n',\n",
       " '*spo0ky*1\\n',\n",
       " '- heller1\\n',\n",
       " '- hola!1\\n',\n",
       " '.:psycho:.1\\n',\n",
       " '.j.t.1\\n',\n",
       " '/me.1\\n',\n",
       " '0\\n',\n",
       " '00\\n',\n",
       " '000\\n',\n",
       " '0000000\\n',\n",
       " '00000000\\n',\n",
       " '00000000000\\n',\n",
       " '000000000000\\n',\n",
       " '0000000000000\\n',\n",
       " '000000000000001\\n',\n",
       " '000000000000002\\n',\n",
       " '00000000000000i\\n']"
      ]
     },
     "execution_count": 29,
     "metadata": {},
     "output_type": "execute_result"
    }
   ],
   "source": [
    "lines"
   ]
  },
  {
   "cell_type": "code",
   "execution_count": 57,
   "metadata": {},
   "outputs": [],
   "source": [
    "kwak_map_fpath = '/home/shaypalachy/Dropbox/data/twikwak17/phase_2_output/kwak10_uname_to_id.txt.gz'"
   ]
  },
  {
   "cell_type": "code",
   "execution_count": 58,
   "metadata": {},
   "outputs": [],
   "source": [
    "kwmap = gzip.open(kwak_map_fpath, 'rt')"
   ]
  },
  {
   "cell_type": "code",
   "execution_count": 59,
   "metadata": {},
   "outputs": [],
   "source": [
    "lines = []\n",
    "for i in range(20):\n",
    "    lines.append(kwmap.readline())"
   ]
  },
  {
   "cell_type": "code",
   "execution_count": 60,
   "metadata": {
    "scrolled": true
   },
   "outputs": [
    {
     "data": {
      "text/plain": [
       "['!help1 8390702 !help1\\n',\n",
       " '*Andy*1 5920622 *Andy*1\\n',\n",
       " '*OriginalDK*1 5487712 *OriginalDK*1\\n',\n",
       " '*spo0ky*1 3698101 *spo0ky*1\\n',\n",
       " '- Heller1 3350961 - Heller1\\n',\n",
       " '- Hola!1 4266691 - Hola!1\\n',\n",
       " '.:Psycho:.1 7916122 .:Psycho:.1\\n',\n",
       " '.J.t.1 8421032 .J.t.1\\n',\n",
       " '/Me.1 6681292 /Me.1\\n',\n",
       " '0 18879645 0\\n',\n",
       " '00 3290491 00\\n',\n",
       " '000 755101 000\\n',\n",
       " '0000000 14841701 0000000\\n',\n",
       " '00000000 10422302 00000000\\n',\n",
       " '00000000000 17021829 00000000000\\n',\n",
       " '000000000000 14372880 000000000000\\n',\n",
       " '0000000000000 15587598 0000000000000\\n',\n",
       " '000000000000001 21566475 000000000000001\\n',\n",
       " '000000000000002 15414402 000000000000002\\n',\n",
       " '00000000000000O 50645244 00000000000000O\\n']"
      ]
     },
     "execution_count": 60,
     "metadata": {},
     "output_type": "execute_result"
    }
   ],
   "source": [
    "lines"
   ]
  },
  {
   "cell_type": "code",
   "execution_count": null,
   "metadata": {},
   "outputs": [],
   "source": []
  },
  {
   "cell_type": "code",
   "execution_count": null,
   "metadata": {},
   "outputs": [],
   "source": []
  },
  {
   "cell_type": "markdown",
   "metadata": {},
   "source": [
    "# Intersection size"
   ]
  },
  {
   "cell_type": "code",
   "execution_count": 1,
   "metadata": {},
   "outputs": [],
   "source": [
    "fpath = '/home/shaypalachy/Dropbox/data/twikwak17/phase_3_output/uname_intersection.txt.gz'"
   ]
  },
  {
   "cell_type": "code",
   "execution_count": 2,
   "metadata": {},
   "outputs": [],
   "source": [
    "import gzip"
   ]
  },
  {
   "cell_type": "code",
   "execution_count": 3,
   "metadata": {},
   "outputs": [],
   "source": [
    "ifile = gzip.open(fpath, 'rt')"
   ]
  },
  {
   "cell_type": "code",
   "execution_count": null,
   "metadata": {},
   "outputs": [],
   "source": []
  },
  {
   "cell_type": "code",
   "execution_count": 4,
   "metadata": {},
   "outputs": [],
   "source": [
    "i = 0\n",
    "for line in ifile:\n",
    "    i +=1"
   ]
  },
  {
   "cell_type": "code",
   "execution_count": 5,
   "metadata": {},
   "outputs": [
    {
     "data": {
      "text/plain": [
       "8221921"
      ]
     },
     "execution_count": 5,
     "metadata": {},
     "output_type": "execute_result"
    }
   ],
   "source": [
    "i"
   ]
  },
  {
   "cell_type": "code",
   "execution_count": 6,
   "metadata": {},
   "outputs": [],
   "source": [
    "ifile = gzip.open(fpath, 'rt')"
   ]
  },
  {
   "cell_type": "code",
   "execution_count": 7,
   "metadata": {},
   "outputs": [],
   "source": [
    "unames = ifile.readlines()"
   ]
  },
  {
   "cell_type": "code",
   "execution_count": 10,
   "metadata": {},
   "outputs": [],
   "source": [
    "unames = set(unames)"
   ]
  },
  {
   "cell_type": "code",
   "execution_count": 11,
   "metadata": {},
   "outputs": [
    {
     "data": {
      "text/plain": [
       "8221919"
      ]
     },
     "execution_count": 11,
     "metadata": {},
     "output_type": "execute_result"
    }
   ],
   "source": [
    "len(unames)"
   ]
  },
  {
   "cell_type": "code",
   "execution_count": null,
   "metadata": {},
   "outputs": [],
   "source": []
  }
 ],
 "metadata": {
  "kernelspec": {
   "display_name": "Python 3",
   "language": "python",
   "name": "python3"
  },
  "language_info": {
   "codemirror_mode": {
    "name": "ipython",
    "version": 3
   },
   "file_extension": ".py",
   "mimetype": "text/x-python",
   "name": "python",
   "nbconvert_exporter": "python",
   "pygments_lexer": "ipython3",
   "version": "3.6.5"
  }
 },
 "nbformat": 4,
 "nbformat_minor": 2
}
